{
  "nbformat": 4,
  "nbformat_minor": 0,
  "metadata": {
    "colab": {
      "name": "Extending_keras_network_with_connected_component_5.ipynb",
      "version": "0.3.2",
      "provenance": [],
      "include_colab_link": true
    },
    "kernelspec": {
      "name": "python3",
      "display_name": "Python 3"
    }
  },
  "cells": [
    {
      "cell_type": "markdown",
      "metadata": {
        "id": "view-in-github",
        "colab_type": "text"
      },
      "source": [
        "<a href=\"https://colab.research.google.com/github/deepak-ucfknight/Machine_Learning_Spring19/blob/master/Extending_keras_network_with_connected_component_5.ipynb\" target=\"_parent\"><img src=\"https://colab.research.google.com/assets/colab-badge.svg\" alt=\"Open In Colab\"/></a>"
      ]
    },
    {
      "metadata": {
        "id": "ZyXfCJyJs1g6",
        "colab_type": "code",
        "colab": {}
      },
      "cell_type": "code",
      "source": [
        "import keras\n",
        "from keras.datasets import mnist\n",
        "from keras import backend as K\n",
        "import numpy as np\n",
        "import matplotlib\n",
        "import matplotlib.pyplot as plt\n",
        "import scipy\n",
        "from scipy import ndimage\n",
        "from skimage import util \n",
        "from keras.models import Sequential\n",
        "from keras.layers import Dense\n",
        "from keras import optimizers\n",
        "from keras.layers import Input\n",
        "from keras import layers\n",
        "from keras import Model"
      ],
      "execution_count": 0,
      "outputs": []
    },
    {
      "metadata": {
        "id": "DaFTNwfeuN4f",
        "colab_type": "code",
        "colab": {
          "base_uri": "https://localhost:8080/",
          "height": 34
        },
        "outputId": "bb754dcb-e268-4732-df90-02a7bb4716c9"
      },
      "cell_type": "code",
      "source": [
        "(x_train, y_train), (x_test, y_test) = mnist.load_data()\n",
        "\n",
        "print(x_train.shape)\n",
        "\n",
        "x_train = x_train / 255;\n",
        "x_test  = x_test  / 255;\n",
        "\n",
        "\n",
        "for i in range(len(x_train)):\n",
        "  a = x_train[i]\n",
        "  for row in range(len(a)):\n",
        "    for col in range(len(a[row])):\n",
        "      if(a[row,col] != 0):\n",
        "        a[row,col] = 1\n",
        "        \n",
        "for i in range(len(x_test)):\n",
        "  a = x_test[i]\n",
        "  for row in range(len(a)):\n",
        "    for col in range(len(a[row])):\n",
        "      if(a[row,col] != 0):\n",
        "        a[row,col] = 1\n",
        "  "
      ],
      "execution_count": 112,
      "outputs": [
        {
          "output_type": "stream",
          "text": [
            "(60000, 28, 28)\n"
          ],
          "name": "stdout"
        }
      ]
    },
    {
      "metadata": {
        "id": "tlsQUD8e1MXH",
        "colab_type": "code",
        "colab": {}
      },
      "cell_type": "code",
      "source": [
        "image_to_visualize = 8\n",
        "index = -1\n",
        "\n",
        "for i in range(len(y_train)):\n",
        "  if y_train[i] == 8:\n",
        "    index = i\n",
        "    "
      ],
      "execution_count": 0,
      "outputs": []
    },
    {
      "metadata": {
        "id": "7tZapYZEueOA",
        "colab_type": "code",
        "colab": {
          "base_uri": "https://localhost:8080/",
          "height": 364
        },
        "outputId": "f6494321-1297-4db7-8282-f17a5b1e0488"
      },
      "cell_type": "code",
      "source": [
        "\n",
        "inverted_img = util.invert(x_train[1])\n",
        "plt.imshow(inverted_img)"
      ],
      "execution_count": 114,
      "outputs": [
        {
          "output_type": "execute_result",
          "data": {
            "text/plain": [
              "<matplotlib.image.AxesImage at 0x7fb26f81e518>"
            ]
          },
          "metadata": {
            "tags": []
          },
          "execution_count": 114
        },
        {
          "output_type": "display_data",
          "data": {
            "image/png": "[encoded data removed]",
            "text/plain": [
              "<Figure size 576x396 with 1 Axes>"
            ]
          },
          "metadata": {
            "tags": []
          }
        }
      ]
    },
    {
      "metadata": {
        "id": "t3leYclAwV7J",
        "colab_type": "code",
        "colab": {
          "base_uri": "https://localhost:8080/",
          "height": 34
        },
        "outputId": "a8415c4b-21eb-40a3-854f-f5b62b9d6479"
      },
      "cell_type": "code",
      "source": [
        "connected_components_train = np.zeros_like(y_train)\n",
        "connected_components_test  = np.zeros_like(y_test)\n",
        "\n",
        "print(connected_components_train.shape[0])"
      ],
      "execution_count": 115,
      "outputs": [
        {
          "output_type": "stream",
          "text": [
            "60000\n"
          ],
          "name": "stdout"
        }
      ]
    },
    {
      "metadata": {
        "id": "8JKagsn9zWDv",
        "colab_type": "code",
        "colab": {}
      },
      "cell_type": "code",
      "source": [
        "for i in range(len(connected_components_train)):\n",
        "  labeled, nr_objects = ndimage.label(util.invert(x_train[i]))\n",
        "  connected_components_train[i] = nr_objects\n",
        "  \n",
        "for i in range(len(connected_components_test)):\n",
        "  labeled, nr_objects = ndimage.label(util.invert(x_test[i]))\n",
        "  connected_components_test[i] = nr_objects"
      ],
      "execution_count": 0,
      "outputs": []
    },
    {
      "metadata": {
        "id": "NoUkcFYD8V1y",
        "colab_type": "code",
        "colab": {}
      },
      "cell_type": "code",
      "source": [
        "(x_train, y_train), (x_test, y_test) = mnist.load_data()"
      ],
      "execution_count": 0,
      "outputs": []
    },
    {
      "metadata": {
        "id": "AEvjd6_E8Wsf",
        "colab_type": "code",
        "colab": {}
      },
      "cell_type": "code",
      "source": [
        "rows = 28\n",
        "cols = 28\n",
        "num_classes = 10\n",
        "batch_size = 32\n",
        "input_dims = rows*cols\n",
        "handcrafted_feature = 1"
      ],
      "execution_count": 0,
      "outputs": []
    },
    {
      "metadata": {
        "id": "ezRgOYSS8ZSu",
        "colab_type": "code",
        "colab": {}
      },
      "cell_type": "code",
      "source": [
        "if K.image_data_format() == 'channels_first':\n",
        "    x_train = x_train.reshape(x_train.shape[0], 1, rows, cols)\n",
        "    x_test = x_test.reshape(x_test.shape[0], 1, rows, cols)\n",
        "    input_shape = (1, rows, cols)\n",
        "else:\n",
        "    x_train = x_train.reshape(x_train.shape[0], rows, cols, 1)\n",
        "    x_test = x_test.reshape(x_test.shape[0], rows, cols, 1)\n",
        "    input_shape = (rows, cols, 1)\n",
        "    \n",
        "x_train = x_train / 255;\n",
        "x_test = x_test / 255;\n",
        "\n",
        "y_train = keras.utils.to_categorical(y_train, num_classes)\n",
        "y_test = keras.utils.to_categorical(y_test, num_classes)"
      ],
      "execution_count": 0,
      "outputs": []
    },
    {
      "metadata": {
        "id": "65nU7SZM8b_p",
        "colab_type": "code",
        "colab": {}
      },
      "cell_type": "code",
      "source": [
        "x_train = x_train.reshape(x_train.shape[0], -1)\n",
        "x_test = x_test.reshape(x_test.shape[0], -1)\n",
        "y_train = y_train\n",
        "y_test = y_test"
      ],
      "execution_count": 0,
      "outputs": []
    },
    {
      "metadata": {
        "id": "sfQ2H4gK8mmj",
        "colab_type": "code",
        "colab": {}
      },
      "cell_type": "code",
      "source": [
        "\n",
        "input_shape = Input((input_dims,))\n",
        "connected_component_feature = Input((handcrafted_feature,))\n",
        "\n",
        "image_vector = Dense(64, activation='sigmoid')(input_shape)\n",
        "\n",
        "model_final  = layers.add([image_vector, connected_component_feature])   \n",
        "\n",
        "model_final  = Dense(10, activation='softmax')(model_final)\n",
        "\n",
        "model_final  = Model([input_shape, connected_component_feature], model_final)\n"
      ],
      "execution_count": 0,
      "outputs": []
    },
    {
      "metadata": {
        "id": "CCDdK6HX8lKv",
        "colab_type": "code",
        "colab": {
          "base_uri": "https://localhost:8080/",
          "height": 748
        },
        "outputId": "6fa8cdca-2074-414e-bb81-7b5d750a4116"
      },
      "cell_type": "code",
      "source": [
        "sgd = optimizers.SGD(lr=0.1)\n",
        "\n",
        "model_final.compile(optimizer=sgd, loss='categorical_crossentropy', metrics=['accuracy'])\n",
        "model_final.fit([x_train, connected_components_train], y_train, nb_epoch=20, batch_size=batch_size)"
      ],
      "execution_count": 122,
      "outputs": [
        {
          "output_type": "stream",
          "text": [
            "/usr/local/lib/python3.6/dist-packages/ipykernel_launcher.py:4: UserWarning: The `nb_epoch` argument in `fit` has been renamed `epochs`.\n",
            "  after removing the cwd from sys.path.\n"
          ],
          "name": "stderr"
        },
        {
          "output_type": "stream",
          "text": [
            "Epoch 1/20\n",
            "60000/60000 [==============================] - 4s 59us/step - loss: 1.2109 - acc: 0.7519\n",
            "Epoch 2/20\n",
            "60000/60000 [==============================] - 3s 55us/step - loss: 0.3201 - acc: 0.9060\n",
            "Epoch 3/20\n",
            "60000/60000 [==============================] - 3s 54us/step - loss: 0.2623 - acc: 0.9231\n",
            "Epoch 4/20\n",
            "60000/60000 [==============================] - 3s 55us/step - loss: 0.2387 - acc: 0.9305\n",
            "Epoch 5/20\n",
            "60000/60000 [==============================] - 3s 56us/step - loss: 0.2160 - acc: 0.9355\n",
            "Epoch 6/20\n",
            "60000/60000 [==============================] - 3s 55us/step - loss: 0.1952 - acc: 0.9420\n",
            "Epoch 7/20\n",
            "60000/60000 [==============================] - 3s 56us/step - loss: 0.1819 - acc: 0.9456\n",
            "Epoch 8/20\n",
            "60000/60000 [==============================] - 3s 56us/step - loss: 0.1660 - acc: 0.9508\n",
            "Epoch 9/20\n",
            "60000/60000 [==============================] - 3s 56us/step - loss: 0.1546 - acc: 0.9536\n",
            "Epoch 10/20\n",
            "60000/60000 [==============================] - 3s 55us/step - loss: 0.1454 - acc: 0.9557\n",
            "Epoch 11/20\n",
            "60000/60000 [==============================] - 3s 56us/step - loss: 0.1378 - acc: 0.9592\n",
            "Epoch 12/20\n",
            "60000/60000 [==============================] - 4s 63us/step - loss: 0.1308 - acc: 0.9606\n",
            "Epoch 13/20\n",
            "60000/60000 [==============================] - 4s 62us/step - loss: 0.1223 - acc: 0.9642\n",
            "Epoch 14/20\n",
            "60000/60000 [==============================] - 3s 55us/step - loss: 0.1174 - acc: 0.9644\n",
            "Epoch 15/20\n",
            "60000/60000 [==============================] - 3s 57us/step - loss: 0.1126 - acc: 0.9662\n",
            "Epoch 16/20\n",
            "60000/60000 [==============================] - 3s 54us/step - loss: 0.1083 - acc: 0.9678\n",
            "Epoch 17/20\n",
            "60000/60000 [==============================] - 3s 54us/step - loss: 0.1022 - acc: 0.9695\n",
            "Epoch 18/20\n",
            "60000/60000 [==============================] - 3s 55us/step - loss: 0.1008 - acc: 0.9699\n",
            "Epoch 19/20\n",
            "60000/60000 [==============================] - 3s 54us/step - loss: 0.0950 - acc: 0.9717\n",
            "Epoch 20/20\n",
            "60000/60000 [==============================] - 3s 54us/step - loss: 0.0916 - acc: 0.9729\n"
          ],
          "name": "stdout"
        },
        {
          "output_type": "execute_result",
          "data": {
            "text/plain": [
              "<keras.callbacks.History at 0x7fb26f81eb00>"
            ]
          },
          "metadata": {
            "tags": []
          },
          "execution_count": 122
        }
      ]
    },
    {
      "metadata": {
        "id": "71zf7FLYBqt8",
        "colab_type": "code",
        "colab": {
          "base_uri": "https://localhost:8080/",
          "height": 51
        },
        "outputId": "786f27fb-4c5e-4094-ff8d-f504f40571af"
      },
      "cell_type": "code",
      "source": [
        "score = model_final.evaluate([x_test,connected_components_test], y_test, verbose=0) \n",
        "print('Test score:', score[0]) \n",
        "print('Test accuracy:', score[1])"
      ],
      "execution_count": 123,
      "outputs": [
        {
          "output_type": "stream",
          "text": [
            "Test score: 0.12043727096058428\n",
            "Test accuracy: 0.9637\n"
          ],
          "name": "stdout"
        }
      ]
    }
  ]
}