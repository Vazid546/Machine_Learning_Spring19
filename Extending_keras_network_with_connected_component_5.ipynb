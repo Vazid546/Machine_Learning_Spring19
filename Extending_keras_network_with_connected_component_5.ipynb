{
  "nbformat": 4,
  "nbformat_minor": 0,
  "metadata": {
    "colab": {
      "name": "Extending_keras_network_with_connected_component_5.ipynb",
      "version": "0.3.2",
      "provenance": [],
      "include_colab_link": true
    },
    "kernelspec": {
      "name": "python3",
      "display_name": "Python 3"
    }
  },
  "cells": [
    {
      "cell_type": "markdown",
      "metadata": {
        "id": "view-in-github",
        "colab_type": "text"
      },
      "source": [
        "<a href=\"https://colab.research.google.com/github/deepak-ucfknight/Machine_Learning_Spring19/blob/master/Extending_keras_network_with_connected_component_5.ipynb\" target=\"_parent\"><img src=\"https://colab.research.google.com/assets/colab-badge.svg\" alt=\"Open In Colab\"/></a>"
      ]
    },
    {
      "metadata": {
        "id": "ZyXfCJyJs1g6",
        "colab_type": "code",
        "colab": {
          "base_uri": "https://localhost:8080/",
          "height": 34
        },
        "outputId": "0b858d63-7099-4619-ba49-22be12a6ea9c"
      },
      "cell_type": "code",
      "source": [
        "# import headers\n",
        "\n",
        "import keras\n",
        "from keras.datasets import mnist\n",
        "from keras import backend as K\n",
        "import numpy as np\n",
        "import matplotlib\n",
        "import matplotlib.pyplot as plt\n",
        "import scipy\n",
        "from scipy import ndimage\n",
        "from skimage import util \n",
        "from keras.models import Sequential\n",
        "from keras.layers import Dense\n",
        "from keras import optimizers\n",
        "from keras.layers import Input\n",
        "from keras import layers\n",
        "from keras import Model\n",
        "import cv2"
      ],
      "execution_count": 1,
      "outputs": [
        {
          "output_type": "stream",
          "text": [
            "Using TensorFlow backend.\n"
          ],
          "name": "stderr"
        }
      ]
    },
    {
      "metadata": {
        "id": "DaFTNwfeuN4f",
        "colab_type": "code",
        "colab": {
          "base_uri": "https://localhost:8080/",
          "height": 51
        },
        "outputId": "9686e11d-0271-4ccb-d187-001643610252"
      },
      "cell_type": "code",
      "source": [
        "# load mnist dataset for finding connected components\n",
        "\n",
        "(x_train, y_train), (x_test, y_test) = mnist.load_data()\n"
      ],
      "execution_count": 2,
      "outputs": [
        {
          "output_type": "stream",
          "text": [
            "Downloading data from https://s3.amazonaws.com/img-datasets/mnist.npz\n",
            "11493376/11490434 [==============================] - 0s 0us/step\n"
          ],
          "name": "stdout"
        }
      ]
    },
    {
      "metadata": {
        "id": "g0rzhl8sqGdb",
        "colab_type": "code",
        "colab": {}
      },
      "cell_type": "code",
      "source": [
        "# converting grayscale images to binary via opencv\n",
        "\n",
        "for i in range(len(x_train)):\n",
        "    image = x_train[i]\n",
        "    threshold = 127\n",
        "    x_train[i] = cv2.threshold(image, threshold, 255, cv2.THRESH_BINARY)[1]\n",
        "    \n",
        "\n",
        "for i in range(len(x_test)):\n",
        "    image = x_test[i]\n",
        "    threshold = 127\n",
        "    x_test[i] = cv2.threshold(image, threshold, 255, cv2.THRESH_BINARY)[1]"
      ],
      "execution_count": 0,
      "outputs": []
    },
    {
      "metadata": {
        "id": "SylwX-yQqI00",
        "colab_type": "code",
        "colab": {}
      },
      "cell_type": "code",
      "source": [
        "# data normalization\n",
        "\n",
        "x_train = x_train / 255;\n",
        "x_test  = x_test  / 255; "
      ],
      "execution_count": 0,
      "outputs": []
    },
    {
      "metadata": {
        "id": "tlsQUD8e1MXH",
        "colab_type": "code",
        "outputId": "e9d11eeb-38b6-4fdf-f4ce-2046fc858239",
        "colab": {
          "base_uri": "https://localhost:8080/",
          "height": 364
        }
      },
      "cell_type": "code",
      "source": [
        "# image visualizer\n",
        "image_to_visualize = 8\n",
        "index = -1\n",
        "\n",
        "for i in range(len(y_train)):\n",
        "  if y_train[i] == image_to_visualize:\n",
        "    index = i\n",
        "    break;\n",
        "    \n",
        "inverted_img = (x_train[index])\n",
        "plt.grid(None)\n",
        "plt.imshow(inverted_img)"
      ],
      "execution_count": 5,
      "outputs": [
        {
          "output_type": "execute_result",
          "data": {
            "text/plain": [
              "<matplotlib.image.AxesImage at 0x7f5603714cc0>"
            ]
          },
          "metadata": {
            "tags": []
          },
          "execution_count": 5
        },
        {
          "output_type": "display_data",
          "data": {
            "image/png": "[encoded data removed]",
            "text/plain": [
              "<Figure size 576x396 with 1 Axes>"
            ]
          },
          "metadata": {
            "tags": []
          }
        }
      ]
    },
    {
      "metadata": {
        "id": "t3leYclAwV7J",
        "colab_type": "code",
        "colab": {}
      },
      "cell_type": "code",
      "source": [
        "# creating vectors to hold connected component data - shape ( number of samples, 1)\n",
        "\n",
        "connected_components_train = np.zeros_like(y_train)\n",
        "connected_components_test  = np.zeros_like(y_test)"
      ],
      "execution_count": 0,
      "outputs": []
    },
    {
      "metadata": {
        "id": "8JKagsn9zWDv",
        "colab_type": "code",
        "colab": {}
      },
      "cell_type": "code",
      "source": [
        "# using scipy ndimage to get connected components easily\n",
        "\n",
        "for i in range(len(connected_components_train)):\n",
        "  labeled, nr_objects = ndimage.label(util.invert(x_train[i]))\n",
        "  connected_components_train[i] = nr_objects\n",
        "  \n",
        "for i in range(len(connected_components_test)):\n",
        "  labeled, nr_objects = ndimage.label(util.invert(x_test[i]))\n",
        "  connected_components_test[i] = nr_objects"
      ],
      "execution_count": 0,
      "outputs": []
    },
    {
      "metadata": {
        "id": "_eYxqUB0e_aN",
        "colab_type": "code",
        "colab": {}
      },
      "cell_type": "code",
      "source": [
        "# Manual recursive dfs search to find connected components -  this is very slow\n",
        "\n",
        "\n",
        "# for i in range(len(connected_components_train)):\n",
        "  \n",
        "#   image = util.invert(x_train[i])\n",
        "#   dx = [-1,0,1,1,1,0,-1,-1]\n",
        "#   dy = [1,1,1,0,-1,-1,-1,0]\n",
        "  \n",
        "#   labelled = 1\n",
        "  \n",
        "#   labelled_image = np.zeros_like(image)\n",
        "  \n",
        "#   for row in range(len(image)):\n",
        "#     for col in range(len(image[row])):\n",
        "#         if image[row][col] ==  1 and labelled_image[row][col] == 0:\n",
        "#             dfs(row, col, labelled)\n",
        "#             labelled = labelled + 1\n",
        "  \n",
        "#   connected_components_train[i] = labelled - 1\n",
        "  \n",
        "  \n",
        "  \n",
        "# for i in range(len(connected_components_test)):\n",
        "  \n",
        "#   image = util.invert(x_test[i])\n",
        "#   dx = [-1,0,1,1,1,0,-1,-1]\n",
        "#   dy = [1,1,1,0,-1,-1,-1,0]\n",
        "  \n",
        "#   labelled = 1\n",
        "  \n",
        "#   labelled_image = np.zeros_like(image)\n",
        "  \n",
        "  \n",
        "#   for row in range(len(image)):\n",
        "#     for col in range(len(image[row])):\n",
        "#         if image[row][col] ==  1 and labelled_image[row][col] == 0:\n",
        "#             dfs(row, col, labelled)\n",
        "#             labelled = labelled + 1\n",
        "  \n",
        "#   connected_components_test[i] = labelled - 1\n",
        "\n",
        "# def dfs(x,y,c):\n",
        "#     labelled_image[x][y] = c\n",
        "#     for i in range(8):\n",
        "#         nx = x+dx[i]\n",
        "#         ny = y+dy[i]\n",
        "#         if nx >= 0 and ny >= 0 and nx <28  and ny <28:\n",
        "#             if image[nx][ny] == 1 and labelled_image[nx][ny] == 0:\n",
        "#                 dfs(nx, ny, c)"
      ],
      "execution_count": 0,
      "outputs": []
    },
    {
      "metadata": {
        "id": "NoUkcFYD8V1y",
        "colab_type": "code",
        "colab": {}
      },
      "cell_type": "code",
      "source": [
        "# loading mnist dataset for training\n",
        "(x_train, y_train), (x_test, y_test) = mnist.load_data()"
      ],
      "execution_count": 0,
      "outputs": []
    },
    {
      "metadata": {
        "id": "AEvjd6_E8Wsf",
        "colab_type": "code",
        "colab": {}
      },
      "cell_type": "code",
      "source": [
        "# variables\n",
        "rows = 28\n",
        "cols = 28\n",
        "num_classes = 10\n",
        "batch_size = 32\n",
        "input_dims = rows*cols\n",
        "handcrafted_feature = 1"
      ],
      "execution_count": 0,
      "outputs": []
    },
    {
      "metadata": {
        "id": "ezRgOYSS8ZSu",
        "colab_type": "code",
        "colab": {}
      },
      "cell_type": "code",
      "source": [
        "# converting dataset as per the backend format\n",
        "\n",
        "if K.image_data_format() == 'channels_first':\n",
        "    x_train = x_train.reshape(x_train.shape[0], 1, rows, cols)\n",
        "    x_test = x_test.reshape(x_test.shape[0], 1, rows, cols)\n",
        "    input_shape = (1, rows, cols)\n",
        "else:\n",
        "    x_train = x_train.reshape(x_train.shape[0], rows, cols, 1)\n",
        "    x_test = x_test.reshape(x_test.shape[0], rows, cols, 1)\n",
        "    input_shape = (rows, cols, 1)\n",
        "\n",
        "# data normalization\n",
        "\n",
        "x_train = x_train / 255;\n",
        "x_test = x_test / 255;\n",
        "\n",
        "connected_components_train = connected_components_train / 4\n",
        "connected_components_test = connected_components_test / 4\n",
        "\n",
        "# converting labels to categorical type\n",
        "\n",
        "y_train = keras.utils.to_categorical(y_train, num_classes)\n",
        "y_test = keras.utils.to_categorical(y_test, num_classes)"
      ],
      "execution_count": 0,
      "outputs": []
    },
    {
      "metadata": {
        "id": "65nU7SZM8b_p",
        "colab_type": "code",
        "colab": {}
      },
      "cell_type": "code",
      "source": [
        "# flattening the training data\n",
        "\n",
        "x_train = x_train.reshape(x_train.shape[0], -1)\n",
        "x_test = x_test.reshape(x_test.shape[0], -1)\n",
        "y_train = y_train\n",
        "y_test = y_test"
      ],
      "execution_count": 0,
      "outputs": []
    },
    {
      "metadata": {
        "id": "sfQ2H4gK8mmj",
        "colab_type": "code",
        "colab": {
          "base_uri": "https://localhost:8080/",
          "height": 88
        },
        "outputId": "953e9318-08d4-43bc-a40e-0e8bd0e08117"
      },
      "cell_type": "code",
      "source": [
        "# model \n",
        "\n",
        "# training data\n",
        "input_shape = Input((input_dims,))\n",
        "\n",
        "# hand crafed connected component feature\n",
        "connected_component_feature = Input((handcrafted_feature,))\n",
        "\n",
        "# fully connected layer with 64 neurons and sigmoid activation\n",
        "image_vector = Dense(64, activation='sigmoid')(input_shape)\n",
        "\n",
        "# concatenating handcrafted features and output of first dense layer\n",
        "model_final  = layers.add([image_vector, connected_component_feature])   \n",
        "\n",
        "# final fully connected layer with 10 neurons and softmax activation\n",
        "model_final  = Dense(10, activation='softmax')(model_final)\n",
        "\n",
        "# final model\n",
        "model_final  = Model([input_shape, connected_component_feature], model_final)\n"
      ],
      "execution_count": 13,
      "outputs": [
        {
          "output_type": "stream",
          "text": [
            "WARNING:tensorflow:From /usr/local/lib/python3.6/dist-packages/tensorflow/python/framework/op_def_library.py:263: colocate_with (from tensorflow.python.framework.ops) is deprecated and will be removed in a future version.\n",
            "Instructions for updating:\n",
            "Colocations handled automatically by placer.\n"
          ],
          "name": "stdout"
        }
      ]
    },
    {
      "metadata": {
        "id": "CCDdK6HX8lKv",
        "colab_type": "code",
        "outputId": "6ce3d613-4487-497a-bf41-68de8bb55bc2",
        "colab": {
          "base_uri": "https://localhost:8080/",
          "height": 819
        }
      },
      "cell_type": "code",
      "source": [
        "# optimizer\n",
        "sgd = optimizers.SGD(lr=0.1)\n",
        "\n",
        "# compiling model\n",
        "model_final.compile(optimizer=sgd, loss='categorical_crossentropy', metrics=['accuracy'])\n",
        "\n",
        "# training the model\n",
        "model_final.fit([x_train, connected_components_train], y_train, nb_epoch=20, batch_size=batch_size)"
      ],
      "execution_count": 14,
      "outputs": [
        {
          "output_type": "stream",
          "text": [
            "WARNING:tensorflow:From /usr/local/lib/python3.6/dist-packages/tensorflow/python/ops/math_ops.py:3066: to_int32 (from tensorflow.python.ops.math_ops) is deprecated and will be removed in a future version.\n",
            "Instructions for updating:\n",
            "Use tf.cast instead.\n"
          ],
          "name": "stdout"
        },
        {
          "output_type": "stream",
          "text": [
            "/usr/local/lib/python3.6/dist-packages/ipykernel_launcher.py:7: UserWarning: The `nb_epoch` argument in `fit` has been renamed `epochs`.\n",
            "  import sys\n"
          ],
          "name": "stderr"
        },
        {
          "output_type": "stream",
          "text": [
            "Epoch 1/20\n",
            "60000/60000 [==============================] - 4s 61us/step - loss: 0.5372 - acc: 0.8624\n",
            "Epoch 2/20\n",
            "60000/60000 [==============================] - 3s 52us/step - loss: 0.2674 - acc: 0.9247\n",
            "Epoch 3/20\n",
            "60000/60000 [==============================] - 3s 52us/step - loss: 0.2251 - acc: 0.9360\n",
            "Epoch 4/20\n",
            "60000/60000 [==============================] - 3s 52us/step - loss: 0.1980 - acc: 0.9438\n",
            "Epoch 5/20\n",
            "60000/60000 [==============================] - 3s 52us/step - loss: 0.1773 - acc: 0.9489\n",
            "Epoch 6/20\n",
            "60000/60000 [==============================] - 3s 52us/step - loss: 0.1613 - acc: 0.9535\n",
            "Epoch 7/20\n",
            "60000/60000 [==============================] - 3s 52us/step - loss: 0.1478 - acc: 0.9576\n",
            "Epoch 8/20\n",
            "60000/60000 [==============================] - 3s 52us/step - loss: 0.1369 - acc: 0.9606\n",
            "Epoch 9/20\n",
            "60000/60000 [==============================] - 3s 51us/step - loss: 0.1276 - acc: 0.9634\n",
            "Epoch 10/20\n",
            "60000/60000 [==============================] - 3s 51us/step - loss: 0.1198 - acc: 0.9655\n",
            "Epoch 11/20\n",
            "60000/60000 [==============================] - 3s 52us/step - loss: 0.1126 - acc: 0.9677\n",
            "Epoch 12/20\n",
            "60000/60000 [==============================] - 3s 52us/step - loss: 0.1068 - acc: 0.9691\n",
            "Epoch 13/20\n",
            "60000/60000 [==============================] - 3s 52us/step - loss: 0.1011 - acc: 0.9709\n",
            "Epoch 14/20\n",
            "60000/60000 [==============================] - 3s 52us/step - loss: 0.0963 - acc: 0.9723\n",
            "Epoch 15/20\n",
            "60000/60000 [==============================] - 3s 51us/step - loss: 0.0920 - acc: 0.9740\n",
            "Epoch 16/20\n",
            "60000/60000 [==============================] - 3s 52us/step - loss: 0.0880 - acc: 0.9749\n",
            "Epoch 17/20\n",
            "60000/60000 [==============================] - 3s 52us/step - loss: 0.0842 - acc: 0.9759\n",
            "Epoch 18/20\n",
            "60000/60000 [==============================] - 3s 51us/step - loss: 0.0811 - acc: 0.9768\n",
            "Epoch 19/20\n",
            "60000/60000 [==============================] - 3s 52us/step - loss: 0.0778 - acc: 0.9779\n",
            "Epoch 20/20\n",
            "60000/60000 [==============================] - 3s 52us/step - loss: 0.0749 - acc: 0.9786\n"
          ],
          "name": "stdout"
        },
        {
          "output_type": "execute_result",
          "data": {
            "text/plain": [
              "<keras.callbacks.History at 0x7f561d325ac8>"
            ]
          },
          "metadata": {
            "tags": []
          },
          "execution_count": 14
        }
      ]
    },
    {
      "metadata": {
        "id": "71zf7FLYBqt8",
        "colab_type": "code",
        "outputId": "48627a63-1c2c-4e2c-c114-e3690bafa9a1",
        "colab": {
          "base_uri": "https://localhost:8080/",
          "height": 51
        }
      },
      "cell_type": "code",
      "source": [
        "# model evaluation on test set\n",
        "score = model_final.evaluate([x_test,connected_components_test], y_test, verbose=0) \n",
        "print('Test score:', score[0]) \n",
        "print('Test accuracy:', score[1]  * 100, \"%\")"
      ],
      "execution_count": 15,
      "outputs": [
        {
          "output_type": "stream",
          "text": [
            "Test score: 0.09317819482274353\n",
            "Test accuracy: 97.14 %\n"
          ],
          "name": "stdout"
        }
      ]
    }
  ]
}