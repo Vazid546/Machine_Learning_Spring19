{
  "nbformat": 4,
  "nbformat_minor": 0,
  "metadata": {
    "colab": {
      "name": "Extending_keras_network_with_connected_component_5.ipynb",
      "version": "0.3.2",
      "provenance": [],
      "include_colab_link": true
    },
    "kernelspec": {
      "name": "python3",
      "display_name": "Python 3"
    }
  },
  "cells": [
    {
      "cell_type": "markdown",
      "metadata": {
        "id": "view-in-github",
        "colab_type": "text"
      },
      "source": [
        "<a href=\"https://colab.research.google.com/github/deepak-ucfknight/Machine_Learning_Spring19/blob/master/Extending_keras_network_with_connected_component_5.ipynb\" target=\"_parent\"><img src=\"https://colab.research.google.com/assets/colab-badge.svg\" alt=\"Open In Colab\"/></a>"
      ]
    },
    {
      "metadata": {
        "id": "ZyXfCJyJs1g6",
        "colab_type": "code",
        "colab": {}
      },
      "cell_type": "code",
      "source": [
        "import keras\n",
        "from keras.datasets import mnist\n",
        "from keras import backend as K\n",
        "import numpy as np\n",
        "import matplotlib\n",
        "import matplotlib.pyplot as plt\n",
        "import scipy\n",
        "from scipy import ndimage\n",
        "from skimage import util \n",
        "from keras.models import Sequential\n",
        "from keras.layers import Dense\n",
        "from keras import optimizers\n",
        "from keras.layers import Input\n",
        "from keras import layers\n",
        "from keras import Model"
      ],
      "execution_count": 0,
      "outputs": []
    },
    {
      "metadata": {
        "id": "DaFTNwfeuN4f",
        "colab_type": "code",
        "outputId": "c8ad0396-6f9e-4639-f9d7-0534b817e249",
        "colab": {
          "base_uri": "https://localhost:8080/",
          "height": 34
        }
      },
      "cell_type": "code",
      "source": [
        "(x_train, y_train), (x_test, y_test) = mnist.load_data()\n",
        "\n",
        "print(x_train.shape)\n",
        "\n",
        "x_train = x_train / 255;\n",
        "x_test  = x_test  / 255;\n",
        "\n",
        "\n",
        "\n",
        "\n",
        "for i in range(len(x_train)):\n",
        "  a = x_train[i]\n",
        "  for row in range(len(a)):\n",
        "    for col in range(len(a[row])):\n",
        "      if(a[row,col] != 0):\n",
        "        a[row,col] = 1\n",
        "        \n",
        "for i in range(len(x_test)):\n",
        "  a = x_test[i]\n",
        "  for row in range(len(a)):\n",
        "    for col in range(len(a[row])):\n",
        "      if(a[row,col] != 0):\n",
        "        a[row,col] = 1\n",
        "  "
      ],
      "execution_count": 97,
      "outputs": [
        {
          "output_type": "stream",
          "text": [
            "(60000, 28, 28)\n"
          ],
          "name": "stdout"
        }
      ]
    },
    {
      "metadata": {
        "id": "tlsQUD8e1MXH",
        "colab_type": "code",
        "colab": {}
      },
      "cell_type": "code",
      "source": [
        "image_to_visualize = 8\n",
        "index = -1\n",
        "\n",
        "for i in range(len(y_train)):\n",
        "  if y_train[i] == image_to_visualize:\n",
        "    index = i"
      ],
      "execution_count": 0,
      "outputs": []
    },
    {
      "metadata": {
        "id": "7tZapYZEueOA",
        "colab_type": "code",
        "outputId": "ce71ae1f-d19b-4f0c-d25b-1a6ed1895f2f",
        "colab": {
          "base_uri": "https://localhost:8080/",
          "height": 364
        }
      },
      "cell_type": "code",
      "source": [
        "\n",
        "inverted_img = util.invert(x_train[index])\n",
        "plt.grid(None)\n",
        "plt.imshow(inverted_img)"
      ],
      "execution_count": 99,
      "outputs": [
        {
          "output_type": "execute_result",
          "data": {
            "text/plain": [
              "<matplotlib.image.AxesImage at 0x7ffb12db3e10>"
            ]
          },
          "metadata": {
            "tags": []
          },
          "execution_count": 99
        },
        {
          "output_type": "display_data",
          "data": {
            "image/png": "[encoded data removed]",
            "text/plain": [
              "<Figure size 576x396 with 1 Axes>"
            ]
          },
          "metadata": {
            "tags": []
          }
        }
      ]
    },
    {
      "metadata": {
        "id": "t3leYclAwV7J",
        "colab_type": "code",
        "outputId": "1bad07af-fb83-4e62-be4f-2b95f69f3f42",
        "colab": {
          "base_uri": "https://localhost:8080/",
          "height": 34
        }
      },
      "cell_type": "code",
      "source": [
        "connected_components_train = np.zeros_like(y_train)\n",
        "connected_components_test  = np.zeros_like(y_test)\n",
        "\n",
        "print(connected_components_train.shape[0])"
      ],
      "execution_count": 100,
      "outputs": [
        {
          "output_type": "stream",
          "text": [
            "60000\n"
          ],
          "name": "stdout"
        }
      ]
    },
    {
      "metadata": {
        "id": "8JKagsn9zWDv",
        "colab_type": "code",
        "colab": {}
      },
      "cell_type": "code",
      "source": [
        "# use scipy ndimage to get connected components easily\n",
        "for i in range(len(connected_components_train)):\n",
        "  labeled, nr_objects = ndimage.label(util.invert(x_train[i]))\n",
        "  connected_components_train[i] = nr_objects\n",
        "  \n",
        "for i in range(len(connected_components_test)):\n",
        "  labeled, nr_objects = ndimage.label(util.invert(x_test[i]))\n",
        "  connected_components_test[i] = nr_objects"
      ],
      "execution_count": 0,
      "outputs": []
    },
    {
      "metadata": {
        "id": "_eYxqUB0e_aN",
        "colab_type": "code",
        "colab": {}
      },
      "cell_type": "code",
      "source": [
        "# Manual recursive dfs search to find connected components -  this is very slow\n",
        "# for i in range(len(connected_components_train)):\n",
        "  \n",
        "#   image = util.invert(x_train[i])\n",
        "#   dx = [-1,0,1,1,1,0,-1,-1]\n",
        "#   dy = [1,1,1,0,-1,-1,-1,0]\n",
        "  \n",
        "#   labelled = 1\n",
        "  \n",
        "#   labelled_image = np.zeros_like(image)\n",
        "  \n",
        "#   for row in range(len(image)):\n",
        "#     for col in range(len(image[row])):\n",
        "#         if image[row][col] ==  1 and labelled_image[row][col] == 0:\n",
        "#             dfs(row, col, labelled)\n",
        "#             labelled = labelled + 1\n",
        "  \n",
        "#   connected_components_train[i] = labelled - 1\n",
        "  \n",
        "  \n",
        "  \n",
        "# for i in range(len(connected_components_test)):\n",
        "  \n",
        "#   image = util.invert(x_test[i])\n",
        "#   dx = [-1,0,1,1,1,0,-1,-1]\n",
        "#   dy = [1,1,1,0,-1,-1,-1,0]\n",
        "  \n",
        "#   labelled = 1\n",
        "  \n",
        "#   labelled_image = np.zeros_like(image)\n",
        "  \n",
        "  \n",
        "#   for row in range(len(image)):\n",
        "#     for col in range(len(image[row])):\n",
        "#         if image[row][col] ==  1 and labelled_image[row][col] == 0:\n",
        "#             dfs(row, col, labelled)\n",
        "#             labelled = labelled + 1\n",
        "  \n",
        "#   connected_components_test[i] = labelled - 1"
      ],
      "execution_count": 0,
      "outputs": []
    },
    {
      "metadata": {
        "id": "HNOCD3zvfUcq",
        "colab_type": "code",
        "colab": {}
      },
      "cell_type": "code",
      "source": [
        "def dfs(x,y,c):\n",
        "    labelled_image[x][y] = c\n",
        "    for i in range(8):\n",
        "        nx = x+dx[i]\n",
        "        ny = y+dy[i]\n",
        "        if nx >= 0 and ny >= 0 and nx <28  and ny <28:\n",
        "            if image[nx][ny] == 1 and labelled_image[nx][ny] == 0:\n",
        "                dfs(nx, ny, c)"
      ],
      "execution_count": 0,
      "outputs": []
    },
    {
      "metadata": {
        "id": "NoUkcFYD8V1y",
        "colab_type": "code",
        "colab": {}
      },
      "cell_type": "code",
      "source": [
        "(x_train, y_train), (x_test, y_test) = mnist.load_data()"
      ],
      "execution_count": 0,
      "outputs": []
    },
    {
      "metadata": {
        "id": "AEvjd6_E8Wsf",
        "colab_type": "code",
        "colab": {}
      },
      "cell_type": "code",
      "source": [
        "rows = 28\n",
        "cols = 28\n",
        "num_classes = 10\n",
        "batch_size = 32\n",
        "input_dims = rows*cols\n",
        "handcrafted_feature = 1"
      ],
      "execution_count": 0,
      "outputs": []
    },
    {
      "metadata": {
        "id": "ezRgOYSS8ZSu",
        "colab_type": "code",
        "colab": {}
      },
      "cell_type": "code",
      "source": [
        "if K.image_data_format() == 'channels_first':\n",
        "    x_train = x_train.reshape(x_train.shape[0], 1, rows, cols)\n",
        "    x_test = x_test.reshape(x_test.shape[0], 1, rows, cols)\n",
        "    input_shape = (1, rows, cols)\n",
        "else:\n",
        "    x_train = x_train.reshape(x_train.shape[0], rows, cols, 1)\n",
        "    x_test = x_test.reshape(x_test.shape[0], rows, cols, 1)\n",
        "    input_shape = (rows, cols, 1)\n",
        "    \n",
        "x_train = x_train / 255;\n",
        "x_test = x_test / 255;\n",
        "\n",
        "y_train = keras.utils.to_categorical(y_train, num_classes)\n",
        "y_test = keras.utils.to_categorical(y_test, num_classes)"
      ],
      "execution_count": 0,
      "outputs": []
    },
    {
      "metadata": {
        "id": "65nU7SZM8b_p",
        "colab_type": "code",
        "colab": {}
      },
      "cell_type": "code",
      "source": [
        "x_train = x_train.reshape(x_train.shape[0], -1)\n",
        "x_test = x_test.reshape(x_test.shape[0], -1)\n",
        "y_train = y_train\n",
        "y_test = y_test"
      ],
      "execution_count": 0,
      "outputs": []
    },
    {
      "metadata": {
        "id": "sfQ2H4gK8mmj",
        "colab_type": "code",
        "colab": {}
      },
      "cell_type": "code",
      "source": [
        "\n",
        "input_shape = Input((input_dims,))\n",
        "connected_component_feature = Input((handcrafted_feature,))\n",
        "\n",
        "image_vector = Dense(64, activation='sigmoid')(input_shape)\n",
        "\n",
        "model_final  = layers.add([image_vector, connected_component_feature])   \n",
        "\n",
        "model_final  = Dense(10, activation='softmax')(model_final)\n",
        "\n",
        "model_final  = Model([input_shape, connected_component_feature], model_final)\n"
      ],
      "execution_count": 0,
      "outputs": []
    },
    {
      "metadata": {
        "id": "CCDdK6HX8lKv",
        "colab_type": "code",
        "outputId": "bc551ff2-9a96-402b-e8fa-4355cc81f9af",
        "colab": {
          "base_uri": "https://localhost:8080/",
          "height": 748
        }
      },
      "cell_type": "code",
      "source": [
        "sgd = optimizers.SGD(lr=0.1)\n",
        "\n",
        "model_final.compile(optimizer=sgd, loss='categorical_crossentropy', metrics=['accuracy'])\n",
        "model_final.fit([x_train, connected_components_train], y_train, nb_epoch=20, batch_size=batch_size)"
      ],
      "execution_count": 109,
      "outputs": [
        {
          "output_type": "stream",
          "text": [
            "/usr/local/lib/python3.6/dist-packages/ipykernel_launcher.py:4: UserWarning: The `nb_epoch` argument in `fit` has been renamed `epochs`.\n",
            "  after removing the cwd from sys.path.\n"
          ],
          "name": "stderr"
        },
        {
          "output_type": "stream",
          "text": [
            "Epoch 1/20\n",
            "60000/60000 [==============================] - 4s 62us/step - loss: 1.2034 - acc: 0.7499\n",
            "Epoch 2/20\n",
            "60000/60000 [==============================] - 3s 57us/step - loss: 0.3122 - acc: 0.9075\n",
            "Epoch 3/20\n",
            "60000/60000 [==============================] - 3s 57us/step - loss: 0.2571 - acc: 0.9242\n",
            "Epoch 4/20\n",
            "60000/60000 [==============================] - 3s 57us/step - loss: 0.2294 - acc: 0.9312\n",
            "Epoch 5/20\n",
            "60000/60000 [==============================] - 4s 65us/step - loss: 0.2074 - acc: 0.9377\n",
            "Epoch 6/20\n",
            "60000/60000 [==============================] - 4s 65us/step - loss: 0.1895 - acc: 0.9442\n",
            "Epoch 7/20\n",
            "60000/60000 [==============================] - 4s 66us/step - loss: 0.1751 - acc: 0.9479\n",
            "Epoch 8/20\n",
            "60000/60000 [==============================] - 4s 67us/step - loss: 0.1622 - acc: 0.9515\n",
            "Epoch 9/20\n",
            "60000/60000 [==============================] - 4s 59us/step - loss: 0.1516 - acc: 0.9542\n",
            "Epoch 10/20\n",
            "60000/60000 [==============================] - 3s 58us/step - loss: 0.1424 - acc: 0.9573\n",
            "Epoch 11/20\n",
            "60000/60000 [==============================] - 3s 58us/step - loss: 0.1330 - acc: 0.9606\n",
            "Epoch 12/20\n",
            "60000/60000 [==============================] - 3s 57us/step - loss: 0.1266 - acc: 0.9628\n",
            "Epoch 13/20\n",
            "60000/60000 [==============================] - 3s 57us/step - loss: 0.1206 - acc: 0.9634\n",
            "Epoch 14/20\n",
            "60000/60000 [==============================] - 3s 58us/step - loss: 0.1156 - acc: 0.9656\n",
            "Epoch 15/20\n",
            "60000/60000 [==============================] - 3s 57us/step - loss: 0.1096 - acc: 0.9671\n",
            "Epoch 16/20\n",
            "60000/60000 [==============================] - 3s 57us/step - loss: 0.1038 - acc: 0.9689\n",
            "Epoch 17/20\n",
            "60000/60000 [==============================] - 3s 57us/step - loss: 0.1000 - acc: 0.9705\n",
            "Epoch 18/20\n",
            "60000/60000 [==============================] - 3s 57us/step - loss: 0.0965 - acc: 0.9709\n",
            "Epoch 19/20\n",
            "60000/60000 [==============================] - 3s 56us/step - loss: 0.0928 - acc: 0.9724\n",
            "Epoch 20/20\n",
            "60000/60000 [==============================] - 3s 57us/step - loss: 0.0888 - acc: 0.9732\n"
          ],
          "name": "stdout"
        },
        {
          "output_type": "execute_result",
          "data": {
            "text/plain": [
              "<keras.callbacks.History at 0x7ffb12d17d30>"
            ]
          },
          "metadata": {
            "tags": []
          },
          "execution_count": 109
        }
      ]
    },
    {
      "metadata": {
        "id": "71zf7FLYBqt8",
        "colab_type": "code",
        "outputId": "f51ce481-950a-4c6a-b98f-1b61319c962d",
        "colab": {
          "base_uri": "https://localhost:8080/",
          "height": 51
        }
      },
      "cell_type": "code",
      "source": [
        "score = model_final.evaluate([x_test,connected_components_test], y_test, verbose=0) \n",
        "print('Test score:', score[0]) \n",
        "print('Test accuracy:', score[1])"
      ],
      "execution_count": 110,
      "outputs": [
        {
          "output_type": "stream",
          "text": [
            "Test score: 0.10862038991488517\n",
            "Test accuracy: 0.9678\n"
          ],
          "name": "stdout"
        }
      ]
    }
  ]
}