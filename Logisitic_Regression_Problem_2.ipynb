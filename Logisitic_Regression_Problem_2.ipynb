{
  "nbformat": 4,
  "nbformat_minor": 0,
  "metadata": {
    "colab": {
      "name": "Logisitic_Regression_Problem_2.ipynb",
      "version": "0.3.2",
      "provenance": [],
      "collapsed_sections": [],
      "include_colab_link": true
    },
    "kernelspec": {
      "name": "python3",
      "display_name": "Python 3"
    }
  },
  "cells": [
    {
      "cell_type": "markdown",
      "metadata": {
        "id": "view-in-github",
        "colab_type": "text"
      },
      "source": [
        "<a href=\"https://colab.research.google.com/github/deepak-ucfknight/Machine_Learning_Spring19/blob/master/Logisitic_Regression_Problem_2.ipynb\" target=\"_parent\"><img src=\"https://colab.research.google.com/assets/colab-badge.svg\" alt=\"Open In Colab\"/></a>"
      ]
    },
    {
      "metadata": {
        "id": "UJbKTHeKyLxq",
        "colab_type": "text"
      },
      "cell_type": "markdown",
      "source": [
        "\n",
        "Machine Learning Assignment  - 1 \n",
        "\n",
        "Deepak - 4736979"
      ]
    },
    {
      "metadata": {
        "id": "nEt2bhuFyZ-X",
        "colab_type": "code",
        "colab": {}
      },
      "cell_type": "code",
      "source": [
        "# importing datasets from keras\n",
        "\n",
        "import keras\n",
        "from keras.datasets import mnist\n",
        "from keras import backend as K\n",
        "import numpy as np"
      ],
      "execution_count": 0,
      "outputs": []
    },
    {
      "metadata": {
        "id": "mzcG_p-2ysW8",
        "colab_type": "text"
      },
      "cell_type": "markdown",
      "source": [
        "Setting Variables"
      ]
    },
    {
      "metadata": {
        "id": "fRnQjafEyu3E",
        "colab_type": "code",
        "colab": {}
      },
      "cell_type": "code",
      "source": [
        "batch_size = 32\n",
        "num_classes = 1\n",
        "epochs = 12\n",
        "classifier_digit = 5"
      ],
      "execution_count": 0,
      "outputs": []
    },
    {
      "metadata": {
        "id": "WJ2BOZhUy5IA",
        "colab_type": "text"
      },
      "cell_type": "markdown",
      "source": [
        "Image Dimensions"
      ]
    },
    {
      "metadata": {
        "id": "9t13LD74y9dE",
        "colab_type": "code",
        "colab": {}
      },
      "cell_type": "code",
      "source": [
        "rows = 28\n",
        "cols = 28"
      ],
      "execution_count": 0,
      "outputs": []
    },
    {
      "metadata": {
        "id": "rpq1Vt8dzC-J",
        "colab_type": "text"
      },
      "cell_type": "markdown",
      "source": [
        "Loading MNIST Datasets"
      ]
    },
    {
      "metadata": {
        "id": "GQ52cYldzI7N",
        "colab_type": "code",
        "colab": {}
      },
      "cell_type": "code",
      "source": [
        "(x_train, y_train), (x_test, y_test) = mnist.load_data()"
      ],
      "execution_count": 0,
      "outputs": []
    },
    {
      "metadata": {
        "id": "e5_RirSQzUCP",
        "colab_type": "text"
      },
      "cell_type": "markdown",
      "source": [
        "Reshaping the Data  based on the backend format,  i.e. channels first or channels last"
      ]
    },
    {
      "metadata": {
        "id": "rY_jLwRwzcMF",
        "colab_type": "code",
        "colab": {}
      },
      "cell_type": "code",
      "source": [
        "if K.image_data_format() == 'channels_first':\n",
        "    x_train = x_train.reshape(x_train.shape[0], 1, rows, cols)\n",
        "    x_test = x_test.reshape(x_test.shape[0], 1, rows, cols)\n",
        "    input_shape = (1, rows, cols)\n",
        "else:\n",
        "    x_train = x_train.reshape(x_train.shape[0], rows, cols, 1)\n",
        "    x_test = x_test.reshape(x_test.shape[0], rows, cols, 1)\n",
        "    input_shape = (rows, cols, 1)\n",
        "    \n",
        "\n",
        "x_train = x_train / 255;\n",
        "x_test = x_test / 255;\n"
      ],
      "execution_count": 0,
      "outputs": []
    },
    {
      "metadata": {
        "id": "tmImRPQ0z8xF",
        "colab_type": "code",
        "colab": {}
      },
      "cell_type": "code",
      "source": [
        "def modify_labels(y):\n",
        "  y = np.array(y)\n",
        "  return np.where(y == classifier_digit, 1, 0)\n",
        "  \n",
        "\n",
        "y_train = modify_labels(y_train)\n",
        "y_test = modify_labels(y_test)\n"
      ],
      "execution_count": 0,
      "outputs": []
    },
    {
      "metadata": {
        "id": "KK456aPm7ia8",
        "colab_type": "code",
        "colab": {}
      },
      "cell_type": "code",
      "source": [
        "\n",
        "x_train = x_train.reshape(x_train.shape[0], -1).T\n",
        "x_test = x_test.reshape(x_test.shape[0], -1).T\n",
        "y_train = y_train.T\n",
        "y_test = y_test.T\n",
        "\n"
      ],
      "execution_count": 0,
      "outputs": []
    },
    {
      "metadata": {
        "id": "xLrg5emf8csF",
        "colab_type": "text"
      },
      "cell_type": "markdown",
      "source": [
        "Activation Function : Logistic Regression"
      ]
    },
    {
      "metadata": {
        "id": "68KTbx7r8qUC",
        "colab_type": "code",
        "colab": {}
      },
      "cell_type": "code",
      "source": [
        "def sigmoid(z):\n",
        "   return 1.0/(1.0+np.exp(-z))\n",
        "  \n",
        "def sigmoid_prime(z):\n",
        "  return sigmoid(z)*(1-sigmoid(z))"
      ],
      "execution_count": 0,
      "outputs": []
    },
    {
      "metadata": {
        "id": "sgov1DX59shs",
        "colab_type": "text"
      },
      "cell_type": "markdown",
      "source": [
        "Helper Functions"
      ]
    },
    {
      "metadata": {
        "id": "tEYMTMd79yDr",
        "colab_type": "code",
        "colab": {}
      },
      "cell_type": "code",
      "source": [
        "# This function initializes the weights matrices and bias to zero\n",
        "\n",
        "def initialize_with_zeros(dim):\n",
        "   w = np.zeros(shape=(dim, num_classes))\n",
        "   b = 0\n",
        "   return w,b\n"
      ],
      "execution_count": 0,
      "outputs": []
    },
    {
      "metadata": {
        "id": "dZL1hzqlgflB",
        "colab_type": "code",
        "colab": {}
      },
      "cell_type": "code",
      "source": [
        "def mini_batches(X, Y, batchsize):\n",
        "    for start_idx in range(0, X.shape[0] - batchsize + 1, batchsize):\n",
        "        excerpt = slice(start_idx, start_idx + batchsize)\n",
        "        yield X[excerpt], Y[excerpt]"
      ],
      "execution_count": 0,
      "outputs": []
    },
    {
      "metadata": {
        "id": "Vy4bPOUD-UNW",
        "colab_type": "code",
        "colab": {}
      },
      "cell_type": "code",
      "source": [
        "def binary_entropy(w,b,X,Y):\n",
        "  \n",
        "  m =  m = X.shape[1]\n",
        "  A = sigmoid(np.dot(w.T, X) + b)\n",
        "  cost = (- 1 / m) * np.sum(Y * np.log(A) + (1 - Y) * (np.log(1 - A))) # binary entropy\n",
        " \n",
        "  # binary entropy gradients\n",
        "  dw = (1 / m) * np.dot(X, (A - Y).T)\n",
        "  db = (1 / m) * np.sum(A - Y)\n",
        "  \n",
        "  grads = {\"dw\": dw,\n",
        "            \"db\": db }\n",
        "  \n",
        "  cost = np.squeeze(cost)\n",
        "    \n",
        "  return grads, cost"
      ],
      "execution_count": 0,
      "outputs": []
    },
    {
      "metadata": {
        "id": "UJPa4A-N_pg6",
        "colab_type": "code",
        "colab": {}
      },
      "cell_type": "code",
      "source": [
        "# gradient calculation has to be updated - under construction\n",
        "def squared_loss(w,b,X,Y):\n",
        "  \n",
        "  m =  m = X.shape[1]\n",
        "  A = sigmoid(np.dot(w.T, X) + b)\n",
        "  cost = np.square(Y - A).mean()\n",
        " \n",
        "  # binary entropy gradients\n",
        "  dw = (1 / m) * np.dot(X, (A - Y).T)\n",
        "  db = (1 / m) * np.sum(A - Y)\n",
        "  \n",
        "  grads = {\"dw\": dw,\n",
        "            \"db\": db }\n",
        "    \n",
        "  return grads, cost"
      ],
      "execution_count": 0,
      "outputs": []
    },
    {
      "metadata": {
        "id": "okmr8kUUDkyE",
        "colab_type": "text"
      },
      "cell_type": "markdown",
      "source": [
        "Back Propogation of Gradient Descent"
      ]
    },
    {
      "metadata": {
        "id": "Y97fwUXNDo2m",
        "colab_type": "code",
        "colab": {}
      },
      "cell_type": "code",
      "source": [
        "def optimize(w, b, X, Y, epochs, learning_rate, print_cost = False):\n",
        "  \n",
        "  costs = []\n",
        "    \n",
        "  print(X.shape)\n",
        "  print(Y.shape)\n",
        "  for i in range(epochs):\n",
        "      \n",
        "    for batch in mini_batches(X.T, Y.T, batch_size):\n",
        "    \n",
        "       x_batch, y_batch = batch\n",
        "       grads, cost = binary_entropy(w, b, x_batch.T, y_batch.T)\n",
        "       dw = grads[\"dw\"]\n",
        "       db = grads[\"db\"]\n",
        "       w = w - learning_rate * dw \n",
        "       b = b - learning_rate * db\n",
        "\n",
        "       \n",
        "    costs.append(cost)\n",
        "\n",
        "    if print_cost:\n",
        "       print (\"Loss after iteration %i: %f\" % (i, cost))\n",
        "            \n",
        "  params = {\"w\": w,\n",
        "            \"b\": b}\n",
        "\n",
        "  grads = {\"dw\": dw,\n",
        "               \"db\": db}\n",
        "\n",
        "  return params, grads, costs\n",
        "        "
      ],
      "execution_count": 0,
      "outputs": []
    },
    {
      "metadata": {
        "id": "rC7hPQ8lEy2C",
        "colab_type": "text"
      },
      "cell_type": "markdown",
      "source": [
        "Predicting Values"
      ]
    },
    {
      "metadata": {
        "id": "Hy_bA1lcE1h0",
        "colab_type": "code",
        "colab": {}
      },
      "cell_type": "code",
      "source": [
        "def predict(w, b, X):\n",
        "   m = X.shape[1]\n",
        "   Y_prediction = np.zeros((1, m))\n",
        "   w = w.reshape(X.shape[0], num_classes)\n",
        "   A = sigmoid(np.dot(w.T, X) + b)\n",
        "  \n",
        "   for i in range(A.shape[1]):\n",
        "      Y_prediction[0, i] = 1 if A[0, i] > 0.5 else 0\n",
        "   return Y_prediction\n",
        "      "
      ],
      "execution_count": 0,
      "outputs": []
    },
    {
      "metadata": {
        "id": "O-HNoXKRF_zQ",
        "colab_type": "text"
      },
      "cell_type": "markdown",
      "source": [
        "Model"
      ]
    },
    {
      "metadata": {
        "id": "g8g8nc_SGA94",
        "colab_type": "code",
        "colab": {}
      },
      "cell_type": "code",
      "source": [
        "def model(X_train, Y_train, X_test, Y_test, num_iterations=2000, learning_rate=0.5, print_cost=False):\n",
        "   w, b = initialize_with_zeros(X_train.shape[0])\n",
        "   parameters, grads, costs = optimize(w, b, X_train, Y_train, num_iterations, learning_rate, print_cost)\n",
        "   w = parameters[\"w\"]\n",
        "   b = parameters[\"b\"]\n",
        "   Y_prediction_test = predict(w, b, X_test)\n",
        "   Y_prediction_train = predict(w, b, X_train)\n",
        "  \n",
        "   print(\"train accuracy: {} %\".format(100 - np.mean(np.abs(Y_prediction_train - Y_train)) * 100))\n",
        "   print(\"test accuracy: {} %\".format(100 - np.mean(np.abs(Y_prediction_test - Y_test)) * 100))\n",
        "\n",
        "    \n",
        "   d = { \"costs\": costs,\n",
        "          \"Y_prediction_test\": Y_prediction_test, \n",
        "          \"Y_prediction_train\" : Y_prediction_train, \n",
        "          \"w\" : w, \n",
        "          \"b\" : b,\n",
        "          \"learning_rate\" : learning_rate,\n",
        "          \"num_iterations\": num_iterations }\n",
        "    \n",
        "   return d"
      ],
      "execution_count": 0,
      "outputs": []
    },
    {
      "metadata": {
        "id": "S-tjR-3iGoTz",
        "colab_type": "code",
        "outputId": "af9d553b-3aa1-4a64-e858-a70a7f15d0fc",
        "colab": {
          "base_uri": "https://localhost:8080/",
          "height": 289
        }
      },
      "cell_type": "code",
      "source": [
        "classifier = model(x_train, y_train, x_test, y_test, num_iterations = 12, learning_rate = 0.001, print_cost = True)"
      ],
      "execution_count": 135,
      "outputs": [
        {
          "output_type": "stream",
          "text": [
            "(784, 60000)\n",
            "(60000,)\n",
            "Loss after iteration 0: 0.489770\n",
            "Loss after iteration 1: 0.404124\n",
            "Loss after iteration 2: 0.363584\n",
            "Loss after iteration 3: 0.342393\n",
            "Loss after iteration 4: 0.330479\n",
            "Loss after iteration 5: 0.323417\n",
            "Loss after iteration 6: 0.319067\n",
            "Loss after iteration 7: 0.316312\n",
            "Loss after iteration 8: 0.314530\n",
            "Loss after iteration 9: 0.313360\n",
            "Loss after iteration 10: 0.312584\n",
            "Loss after iteration 11: 0.312067\n",
            "train accuracy: 90.965 %\n",
            "test accuracy: 91.08 %\n"
          ],
          "name": "stdout"
        }
      ]
    }
  ]
}