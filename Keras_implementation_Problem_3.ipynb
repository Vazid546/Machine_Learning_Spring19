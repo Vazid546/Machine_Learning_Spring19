{
  "nbformat": 4,
  "nbformat_minor": 0,
  "metadata": {
    "colab": {
      "name": "Keras_implementation_Problem_3.ipynb",
      "version": "0.3.2",
      "provenance": [],
      "include_colab_link": true
    },
    "kernelspec": {
      "name": "python3",
      "display_name": "Python 3"
    }
  },
  "cells": [
    {
      "cell_type": "markdown",
      "metadata": {
        "id": "view-in-github",
        "colab_type": "text"
      },
      "source": [
        "<a href=\"https://colab.research.google.com/github/deepak-ucfknight/Machine_Learning_Spring19/blob/master/Keras_implementation_Problem_3.ipynb\" target=\"_parent\"><img src=\"https://colab.research.google.com/assets/colab-badge.svg\" alt=\"Open In Colab\"/></a>"
      ]
    },
    {
      "metadata": {
        "id": "xggT84rNTOX4",
        "colab_type": "code",
        "colab": {
          "base_uri": "https://localhost:8080/",
          "height": 34
        },
        "outputId": "0f4c7b04-0406-4644-84ba-be78e377df2e"
      },
      "cell_type": "code",
      "source": [
        "# import headers\n",
        "import keras\n",
        "from keras.datasets import mnist\n",
        "from keras import backend as K\n",
        "import numpy as np\n",
        "from keras.models import Sequential\n",
        "from keras.layers import Dense\n",
        "from keras import optimizers"
      ],
      "execution_count": 1,
      "outputs": [
        {
          "output_type": "stream",
          "text": [
            "Using TensorFlow backend.\n"
          ],
          "name": "stderr"
        }
      ]
    },
    {
      "metadata": {
        "id": "-U8nV4kUTmwI",
        "colab_type": "code",
        "outputId": "96656859-7839-4009-df50-53fd24355457",
        "colab": {
          "base_uri": "https://localhost:8080/",
          "height": 51
        }
      },
      "cell_type": "code",
      "source": [
        "# load data\n",
        "(x_train, y_train), (x_test, y_test) = mnist.load_data()"
      ],
      "execution_count": 2,
      "outputs": [
        {
          "output_type": "stream",
          "text": [
            "Downloading data from https://s3.amazonaws.com/img-datasets/mnist.npz\n",
            "11493376/11490434 [==============================] - 1s 0us/step\n"
          ],
          "name": "stdout"
        }
      ]
    },
    {
      "metadata": {
        "id": "MYtfIUbMTtcZ",
        "colab_type": "code",
        "colab": {}
      },
      "cell_type": "code",
      "source": [
        "# variables\n",
        "rows = 28\n",
        "cols = 28\n",
        "num_classes = 10\n",
        "batch_size = 32"
      ],
      "execution_count": 0,
      "outputs": []
    },
    {
      "metadata": {
        "id": "bcRmtw8XTrXn",
        "colab_type": "code",
        "colab": {}
      },
      "cell_type": "code",
      "source": [
        "# data reshaping based on tensorflow backend\n",
        "if K.image_data_format() == 'channels_first':\n",
        "    x_train = x_train.reshape(x_train.shape[0], 1, rows, cols)\n",
        "    x_test = x_test.reshape(x_test.shape[0], 1, rows, cols)\n",
        "    input_shape = (1, rows, cols)\n",
        "else:\n",
        "    x_train = x_train.reshape(x_train.shape[0], rows, cols, 1)\n",
        "    x_test = x_test.reshape(x_test.shape[0], rows, cols, 1)\n",
        "    input_shape = (rows, cols, 1)\n",
        "    \n",
        "# data normalization\n",
        "x_train = x_train / 255;\n",
        "x_test = x_test / 255;\n",
        "\n",
        "# categorical of conversion of labels\n",
        "y_train = keras.utils.to_categorical(y_train, num_classes)\n",
        "y_test = keras.utils.to_categorical(y_test, num_classes)"
      ],
      "execution_count": 0,
      "outputs": []
    },
    {
      "metadata": {
        "id": "L6Jx3bTbV6eZ",
        "colab_type": "code",
        "outputId": "2f6c8493-744f-43cf-c075-ee90c6338343",
        "colab": {
          "base_uri": "https://localhost:8080/",
          "height": 85
        }
      },
      "cell_type": "code",
      "source": [
        "# reshaping the training set to flatten\n",
        "x_train = x_train.reshape(x_train.shape[0], -1)\n",
        "x_test = x_test.reshape(x_test.shape[0], -1)\n",
        "y_train = y_train\n",
        "y_test = y_test\n",
        "\n",
        "print(x_train.shape)\n",
        "print(x_test.shape)\n",
        "print(y_train.shape)\n",
        "print(y_test.shape)"
      ],
      "execution_count": 5,
      "outputs": [
        {
          "output_type": "stream",
          "text": [
            "(60000, 784)\n",
            "(10000, 784)\n",
            "(60000, 10)\n",
            "(10000, 10)\n"
          ],
          "name": "stdout"
        }
      ]
    },
    {
      "metadata": {
        "id": "vSnF79UxUDqP",
        "colab_type": "code",
        "outputId": "2e0e8ce3-ac31-446e-cbb8-ddf82915ebfc",
        "colab": {
          "base_uri": "https://localhost:8080/",
          "height": 870
        }
      },
      "cell_type": "code",
      "source": [
        "# model\n",
        "model = Sequential()\n",
        "model.add(Dense(64, activation='sigmoid',input_dim = rows*cols))\n",
        "model.add(Dense(num_classes, activation='softmax'))\n",
        "\n",
        "# optimizer\n",
        "sgd = optimizers.SGD(lr=0.1)\n",
        "\n",
        "# model compiling and training\n",
        "model.compile(optimizer=sgd, loss='categorical_crossentropy', metrics=['accuracy'])\n",
        "model.fit(x_train, y_train, nb_epoch=20, batch_size=batch_size)"
      ],
      "execution_count": 6,
      "outputs": [
        {
          "output_type": "stream",
          "text": [
            "WARNING:tensorflow:From /usr/local/lib/python3.6/dist-packages/tensorflow/python/framework/op_def_library.py:263: colocate_with (from tensorflow.python.framework.ops) is deprecated and will be removed in a future version.\n",
            "Instructions for updating:\n",
            "Colocations handled automatically by placer.\n",
            "WARNING:tensorflow:From /usr/local/lib/python3.6/dist-packages/tensorflow/python/ops/math_ops.py:3066: to_int32 (from tensorflow.python.ops.math_ops) is deprecated and will be removed in a future version.\n",
            "Instructions for updating:\n",
            "Use tf.cast instead.\n"
          ],
          "name": "stdout"
        },
        {
          "output_type": "stream",
          "text": [
            "/usr/local/lib/python3.6/dist-packages/ipykernel_launcher.py:10: UserWarning: The `nb_epoch` argument in `fit` has been renamed `epochs`.\n",
            "  # Remove the CWD from sys.path while we load stuff.\n"
          ],
          "name": "stderr"
        },
        {
          "output_type": "stream",
          "text": [
            "Epoch 1/20\n",
            "60000/60000 [==============================] - 4s 67us/step - loss: 0.5597 - acc: 0.8591\n",
            "Epoch 2/20\n",
            "60000/60000 [==============================] - 4s 58us/step - loss: 0.2933 - acc: 0.9156\n",
            "Epoch 3/20\n",
            "60000/60000 [==============================] - 3s 58us/step - loss: 0.2469 - acc: 0.9281\n",
            "Epoch 4/20\n",
            "60000/60000 [==============================] - 3s 57us/step - loss: 0.2160 - acc: 0.9382\n",
            "Epoch 5/20\n",
            "60000/60000 [==============================] - 3s 57us/step - loss: 0.1934 - acc: 0.9444\n",
            "Epoch 6/20\n",
            "60000/60000 [==============================] - 3s 56us/step - loss: 0.1755 - acc: 0.9497\n",
            "Epoch 7/20\n",
            "60000/60000 [==============================] - 3s 56us/step - loss: 0.1611 - acc: 0.9533\n",
            "Epoch 8/20\n",
            "60000/60000 [==============================] - 3s 56us/step - loss: 0.1486 - acc: 0.9566\n",
            "Epoch 9/20\n",
            "60000/60000 [==============================] - 3s 55us/step - loss: 0.1384 - acc: 0.9603\n",
            "Epoch 10/20\n",
            "60000/60000 [==============================] - 3s 55us/step - loss: 0.1295 - acc: 0.9628\n",
            "Epoch 11/20\n",
            "60000/60000 [==============================] - 3s 55us/step - loss: 0.1216 - acc: 0.9654\n",
            "Epoch 12/20\n",
            "60000/60000 [==============================] - 3s 56us/step - loss: 0.1147 - acc: 0.9671\n",
            "Epoch 13/20\n",
            "60000/60000 [==============================] - 3s 56us/step - loss: 0.1087 - acc: 0.9696\n",
            "Epoch 14/20\n",
            "60000/60000 [==============================] - 3s 56us/step - loss: 0.1031 - acc: 0.9714\n",
            "Epoch 15/20\n",
            "60000/60000 [==============================] - 3s 55us/step - loss: 0.0980 - acc: 0.9722\n",
            "Epoch 16/20\n",
            "60000/60000 [==============================] - 3s 55us/step - loss: 0.0936 - acc: 0.9741\n",
            "Epoch 17/20\n",
            "60000/60000 [==============================] - 3s 57us/step - loss: 0.0894 - acc: 0.9753\n",
            "Epoch 18/20\n",
            "60000/60000 [==============================] - 3s 56us/step - loss: 0.0858 - acc: 0.9761\n",
            "Epoch 19/20\n",
            "60000/60000 [==============================] - 3s 55us/step - loss: 0.0823 - acc: 0.9773\n",
            "Epoch 20/20\n",
            "60000/60000 [==============================] - 3s 55us/step - loss: 0.0790 - acc: 0.9782\n"
          ],
          "name": "stdout"
        },
        {
          "output_type": "execute_result",
          "data": {
            "text/plain": [
              "<keras.callbacks.History at 0x7fe1cab857b8>"
            ]
          },
          "metadata": {
            "tags": []
          },
          "execution_count": 6
        }
      ]
    },
    {
      "metadata": {
        "id": "MkVyQdUXUYkY",
        "colab_type": "code",
        "outputId": "a74a614f-df56-42f2-efb7-34b1f8753c22",
        "colab": {
          "base_uri": "https://localhost:8080/",
          "height": 51
        }
      },
      "cell_type": "code",
      "source": [
        "# model evaluation\n",
        "score = model.evaluate(x_test, y_test, verbose=0) \n",
        "print('Test score:', score[0]) \n",
        "print('Test accuracy:', score[1] * 100, \"%\")"
      ],
      "execution_count": 10,
      "outputs": [
        {
          "output_type": "stream",
          "text": [
            "Test score: 0.09892261209227145\n",
            "Test accuracy: 96.89 %\n"
          ],
          "name": "stdout"
        }
      ]
    },
    {
      "metadata": {
        "id": "PfM-Tv_RUGMs",
        "colab_type": "code",
        "colab": {}
      },
      "cell_type": "code",
      "source": [
        ""
      ],
      "execution_count": 0,
      "outputs": []
    }
  ]
}