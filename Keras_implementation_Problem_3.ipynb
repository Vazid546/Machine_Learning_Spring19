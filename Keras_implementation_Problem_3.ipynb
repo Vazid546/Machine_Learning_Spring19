{
  "nbformat": 4,
  "nbformat_minor": 0,
  "metadata": {
    "colab": {
      "name": "Keras_implementation_Problem_3.ipynb",
      "version": "0.3.2",
      "provenance": [],
      "include_colab_link": true
    },
    "kernelspec": {
      "name": "python3",
      "display_name": "Python 3"
    }
  },
  "cells": [
    {
      "cell_type": "markdown",
      "metadata": {
        "id": "view-in-github",
        "colab_type": "text"
      },
      "source": [
        "<a href=\"https://colab.research.google.com/github/deepak-ucfknight/Machine_Learning_Spring19/blob/master/Keras_implementation_Problem_3.ipynb\" target=\"_parent\"><img src=\"https://colab.research.google.com/assets/colab-badge.svg\" alt=\"Open In Colab\"/></a>"
      ]
    },
    {
      "metadata": {
        "id": "xggT84rNTOX4",
        "colab_type": "code",
        "colab": {}
      },
      "cell_type": "code",
      "source": [
        "\n",
        "import keras\n",
        "from keras.datasets import mnist\n",
        "from keras import backend as K\n",
        "import numpy as np\n",
        "from keras.models import Sequential\n",
        "from keras.layers import Dense"
      ],
      "execution_count": 0,
      "outputs": []
    },
    {
      "metadata": {
        "id": "-U8nV4kUTmwI",
        "colab_type": "code",
        "colab": {}
      },
      "cell_type": "code",
      "source": [
        "(x_train, y_train), (x_test, y_test) = mnist.load_data()"
      ],
      "execution_count": 0,
      "outputs": []
    },
    {
      "metadata": {
        "id": "MYtfIUbMTtcZ",
        "colab_type": "code",
        "colab": {}
      },
      "cell_type": "code",
      "source": [
        "rows = 28\n",
        "cols = 28\n",
        "num_classes = 10\n",
        "batch_size = 32"
      ],
      "execution_count": 0,
      "outputs": []
    },
    {
      "metadata": {
        "id": "bcRmtw8XTrXn",
        "colab_type": "code",
        "colab": {}
      },
      "cell_type": "code",
      "source": [
        "if K.image_data_format() == 'channels_first':\n",
        "    x_train = x_train.reshape(x_train.shape[0], 1, rows, cols)\n",
        "    x_test = x_test.reshape(x_test.shape[0], 1, rows, cols)\n",
        "    input_shape = (1, rows, cols)\n",
        "else:\n",
        "    x_train = x_train.reshape(x_train.shape[0], rows, cols, 1)\n",
        "    x_test = x_test.reshape(x_test.shape[0], rows, cols, 1)\n",
        "    input_shape = (rows, cols, 1)\n",
        "    \n",
        "x_train = x_train / 255;\n",
        "x_test = x_test / 255;\n",
        "\n",
        "y_train = keras.utils.to_categorical(y_train, num_classes)\n",
        "y_test = keras.utils.to_categorical(y_test, num_classes)"
      ],
      "execution_count": 0,
      "outputs": []
    },
    {
      "metadata": {
        "id": "L6Jx3bTbV6eZ",
        "colab_type": "code",
        "colab": {
          "base_uri": "https://localhost:8080/",
          "height": 85
        },
        "outputId": "7c2fc933-5a7a-4bdd-9315-568fc7a0f0cc"
      },
      "cell_type": "code",
      "source": [
        "x_train = x_train.reshape(x_train.shape[0], -1)\n",
        "x_test = x_test.reshape(x_test.shape[0], -1)\n",
        "y_train = y_train\n",
        "y_test = y_test\n",
        "\n",
        "print(x_train.shape)\n",
        "print(x_test.shape)\n",
        "print(y_train.shape)\n",
        "print(y_test.shape)"
      ],
      "execution_count": 47,
      "outputs": [
        {
          "output_type": "stream",
          "text": [
            "(60000, 784)\n",
            "(10000, 784)\n",
            "(60000, 10)\n",
            "(10000, 10)\n"
          ],
          "name": "stdout"
        }
      ]
    },
    {
      "metadata": {
        "id": "vSnF79UxUDqP",
        "colab_type": "code",
        "colab": {
          "base_uri": "https://localhost:8080/",
          "height": 476
        },
        "outputId": "3bef48d1-9f4d-496f-f1b7-6ca9cefa6091"
      },
      "cell_type": "code",
      "source": [
        "model = Sequential()\n",
        "model.add(Dense(num_classes, activation='softmax', input_dim=784))\n",
        "model.compile(optimizer='sgd', loss='categorical_crossentropy', metrics=['accuracy'])\n",
        "model.fit(x_train, y_train, nb_epoch=12, batch_size=batch_size)"
      ],
      "execution_count": 48,
      "outputs": [
        {
          "output_type": "stream",
          "text": [
            "/usr/local/lib/python3.6/dist-packages/ipykernel_launcher.py:4: UserWarning: The `nb_epoch` argument in `fit` has been renamed `epochs`.\n",
            "  after removing the cwd from sys.path.\n"
          ],
          "name": "stderr"
        },
        {
          "output_type": "stream",
          "text": [
            "Epoch 1/12\n",
            "60000/60000 [==============================] - 3s 46us/step - loss: 0.7715 - acc: 0.8191\n",
            "Epoch 2/12\n",
            "60000/60000 [==============================] - 3s 43us/step - loss: 0.4535 - acc: 0.8816\n",
            "Epoch 3/12\n",
            "60000/60000 [==============================] - 3s 43us/step - loss: 0.4014 - acc: 0.8923\n",
            "Epoch 4/12\n",
            "60000/60000 [==============================] - 3s 43us/step - loss: 0.3755 - acc: 0.8976\n",
            "Epoch 5/12\n",
            "60000/60000 [==============================] - 3s 43us/step - loss: 0.3589 - acc: 0.9011\n",
            "Epoch 6/12\n",
            "60000/60000 [==============================] - 3s 43us/step - loss: 0.3472 - acc: 0.9039\n",
            "Epoch 7/12\n",
            "60000/60000 [==============================] - 3s 43us/step - loss: 0.3384 - acc: 0.9060\n",
            "Epoch 8/12\n",
            "60000/60000 [==============================] - 3s 43us/step - loss: 0.3314 - acc: 0.9079\n",
            "Epoch 9/12\n",
            "60000/60000 [==============================] - 3s 44us/step - loss: 0.3255 - acc: 0.9094\n",
            "Epoch 10/12\n",
            "60000/60000 [==============================] - 3s 44us/step - loss: 0.3206 - acc: 0.9107\n",
            "Epoch 11/12\n",
            "60000/60000 [==============================] - 3s 43us/step - loss: 0.3165 - acc: 0.9114\n",
            "Epoch 12/12\n",
            "60000/60000 [==============================] - 3s 43us/step - loss: 0.3129 - acc: 0.9129\n"
          ],
          "name": "stdout"
        },
        {
          "output_type": "execute_result",
          "data": {
            "text/plain": [
              "<keras.callbacks.History at 0x7f3ffe5bd208>"
            ]
          },
          "metadata": {
            "tags": []
          },
          "execution_count": 48
        }
      ]
    },
    {
      "metadata": {
        "id": "MkVyQdUXUYkY",
        "colab_type": "code",
        "colab": {
          "base_uri": "https://localhost:8080/",
          "height": 51
        },
        "outputId": "7fae99fc-d3e7-46f5-ed35-eda639c73a73"
      },
      "cell_type": "code",
      "source": [
        "score = model.evaluate(x_test, y_test, verbose=0) \n",
        "print('Test score:', score[0]) \n",
        "print('Test accuracy:', score[1])"
      ],
      "execution_count": 49,
      "outputs": [
        {
          "output_type": "stream",
          "text": [
            "Test score: 0.3001535633444786\n",
            "Test accuracy: 0.9162\n"
          ],
          "name": "stdout"
        }
      ]
    },
    {
      "metadata": {
        "id": "PfM-Tv_RUGMs",
        "colab_type": "code",
        "colab": {}
      },
      "cell_type": "code",
      "source": [
        ""
      ],
      "execution_count": 0,
      "outputs": []
    }
  ]
}