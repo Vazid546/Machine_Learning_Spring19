{
  "nbformat": 4,
  "nbformat_minor": 0,
  "metadata": {
    "colab": {
      "name": "Keras_implementation_Problem_3.ipynb",
      "version": "0.3.2",
      "provenance": [],
      "include_colab_link": true
    },
    "kernelspec": {
      "name": "python3",
      "display_name": "Python 3"
    }
  },
  "cells": [
    {
      "cell_type": "markdown",
      "metadata": {
        "id": "view-in-github",
        "colab_type": "text"
      },
      "source": [
        "<a href=\"https://colab.research.google.com/github/deepak-ucfknight/Machine_Learning_Spring19/blob/master/Keras_implementation_Problem_3.ipynb\" target=\"_parent\"><img src=\"https://colab.research.google.com/assets/colab-badge.svg\" alt=\"Open In Colab\"/></a>"
      ]
    },
    {
      "metadata": {
        "id": "xggT84rNTOX4",
        "colab_type": "code",
        "colab": {}
      },
      "cell_type": "code",
      "source": [
        "\n",
        "import keras\n",
        "from keras.datasets import mnist\n",
        "from keras import backend as K\n",
        "import numpy as np\n",
        "from keras.models import Sequential\n",
        "from keras.layers import Dense\n",
        "from keras import optimizers"
      ],
      "execution_count": 0,
      "outputs": []
    },
    {
      "metadata": {
        "id": "-U8nV4kUTmwI",
        "colab_type": "code",
        "colab": {
          "base_uri": "https://localhost:8080/",
          "height": 51
        },
        "outputId": "3f48df87-51ac-4664-d095-bcff9eba0322"
      },
      "cell_type": "code",
      "source": [
        "(x_train, y_train), (x_test, y_test) = mnist.load_data()"
      ],
      "execution_count": 2,
      "outputs": [
        {
          "output_type": "stream",
          "text": [
            "Downloading data from https://s3.amazonaws.com/img-datasets/mnist.npz\n",
            "11493376/11490434 [==============================] - 0s 0us/step\n"
          ],
          "name": "stdout"
        }
      ]
    },
    {
      "metadata": {
        "id": "MYtfIUbMTtcZ",
        "colab_type": "code",
        "colab": {}
      },
      "cell_type": "code",
      "source": [
        "rows = 28\n",
        "cols = 28\n",
        "num_classes = 10\n",
        "batch_size = 32"
      ],
      "execution_count": 0,
      "outputs": []
    },
    {
      "metadata": {
        "id": "bcRmtw8XTrXn",
        "colab_type": "code",
        "colab": {}
      },
      "cell_type": "code",
      "source": [
        "if K.image_data_format() == 'channels_first':\n",
        "    x_train = x_train.reshape(x_train.shape[0], 1, rows, cols)\n",
        "    x_test = x_test.reshape(x_test.shape[0], 1, rows, cols)\n",
        "    input_shape = (1, rows, cols)\n",
        "else:\n",
        "    x_train = x_train.reshape(x_train.shape[0], rows, cols, 1)\n",
        "    x_test = x_test.reshape(x_test.shape[0], rows, cols, 1)\n",
        "    input_shape = (rows, cols, 1)\n",
        "    \n",
        "x_train = x_train / 255;\n",
        "x_test = x_test / 255;\n",
        "\n",
        "y_train = keras.utils.to_categorical(y_train, num_classes)\n",
        "y_test = keras.utils.to_categorical(y_test, num_classes)"
      ],
      "execution_count": 0,
      "outputs": []
    },
    {
      "metadata": {
        "id": "L6Jx3bTbV6eZ",
        "colab_type": "code",
        "outputId": "8c31e801-1c81-4667-d866-b6a0ea1c5488",
        "colab": {
          "base_uri": "https://localhost:8080/",
          "height": 85
        }
      },
      "cell_type": "code",
      "source": [
        "x_train = x_train.reshape(x_train.shape[0], -1)\n",
        "x_test = x_test.reshape(x_test.shape[0], -1)\n",
        "y_train = y_train\n",
        "y_test = y_test\n",
        "\n",
        "print(x_train.shape)\n",
        "print(x_test.shape)\n",
        "print(y_train.shape)\n",
        "print(y_test.shape)"
      ],
      "execution_count": 5,
      "outputs": [
        {
          "output_type": "stream",
          "text": [
            "(60000, 784)\n",
            "(10000, 784)\n",
            "(60000, 10)\n",
            "(10000, 10)\n"
          ],
          "name": "stdout"
        }
      ]
    },
    {
      "metadata": {
        "id": "vSnF79UxUDqP",
        "colab_type": "code",
        "outputId": "edbc9f38-4cac-4f88-ff2f-51d5e70f784c",
        "colab": {
          "base_uri": "https://localhost:8080/",
          "height": 748
        }
      },
      "cell_type": "code",
      "source": [
        "model = Sequential()\n",
        "model.add(Dense(64, activation='sigmoid',input_dim = rows*cols))\n",
        "model.add(Dense(num_classes, activation='softmax'))\n",
        "\n",
        "\n",
        "sgd = optimizers.SGD(lr=0.1)\n",
        "\n",
        "model.compile(optimizer=sgd, loss='categorical_crossentropy', metrics=['accuracy'])\n",
        "model.fit(x_train, y_train, nb_epoch=20, batch_size=batch_size)"
      ],
      "execution_count": 14,
      "outputs": [
        {
          "output_type": "stream",
          "text": [
            "/usr/local/lib/python3.6/dist-packages/ipykernel_launcher.py:9: UserWarning: The `nb_epoch` argument in `fit` has been renamed `epochs`.\n",
            "  if __name__ == '__main__':\n"
          ],
          "name": "stderr"
        },
        {
          "output_type": "stream",
          "text": [
            "Epoch 1/20\n",
            "60000/60000 [==============================] - 4s 66us/step - loss: 0.5614 - acc: 0.8583\n",
            "Epoch 2/20\n",
            "60000/60000 [==============================] - 3s 55us/step - loss: 0.2947 - acc: 0.9158\n",
            "Epoch 3/20\n",
            "60000/60000 [==============================] - 3s 54us/step - loss: 0.2477 - acc: 0.9284\n",
            "Epoch 4/20\n",
            "60000/60000 [==============================] - 3s 53us/step - loss: 0.2158 - acc: 0.9381\n",
            "Epoch 5/20\n",
            "60000/60000 [==============================] - 3s 54us/step - loss: 0.1921 - acc: 0.9449\n",
            "Epoch 6/20\n",
            "60000/60000 [==============================] - 3s 54us/step - loss: 0.1739 - acc: 0.9511\n",
            "Epoch 7/20\n",
            "60000/60000 [==============================] - 3s 54us/step - loss: 0.1592 - acc: 0.9552\n",
            "Epoch 8/20\n",
            "60000/60000 [==============================] - 3s 54us/step - loss: 0.1475 - acc: 0.9583\n",
            "Epoch 9/20\n",
            "60000/60000 [==============================] - 3s 54us/step - loss: 0.1371 - acc: 0.9613\n",
            "Epoch 10/20\n",
            "60000/60000 [==============================] - 3s 55us/step - loss: 0.1282 - acc: 0.9637\n",
            "Epoch 11/20\n",
            "60000/60000 [==============================] - 3s 55us/step - loss: 0.1214 - acc: 0.9655\n",
            "Epoch 12/20\n",
            "60000/60000 [==============================] - 3s 55us/step - loss: 0.1144 - acc: 0.9680\n",
            "Epoch 13/20\n",
            "60000/60000 [==============================] - 3s 54us/step - loss: 0.1087 - acc: 0.9691\n",
            "Epoch 14/20\n",
            "60000/60000 [==============================] - 3s 53us/step - loss: 0.1035 - acc: 0.9712\n",
            "Epoch 15/20\n",
            "60000/60000 [==============================] - 3s 54us/step - loss: 0.0988 - acc: 0.9723\n",
            "Epoch 16/20\n",
            "60000/60000 [==============================] - 3s 55us/step - loss: 0.0942 - acc: 0.9734\n",
            "Epoch 17/20\n",
            "60000/60000 [==============================] - 3s 54us/step - loss: 0.0903 - acc: 0.9745\n",
            "Epoch 18/20\n",
            "60000/60000 [==============================] - 3s 54us/step - loss: 0.0865 - acc: 0.9760\n",
            "Epoch 19/20\n",
            "60000/60000 [==============================] - 3s 54us/step - loss: 0.0834 - acc: 0.9768\n",
            "Epoch 20/20\n",
            "60000/60000 [==============================] - 3s 54us/step - loss: 0.0801 - acc: 0.9780\n"
          ],
          "name": "stdout"
        },
        {
          "output_type": "execute_result",
          "data": {
            "text/plain": [
              "<keras.callbacks.History at 0x7f7679d65160>"
            ]
          },
          "metadata": {
            "tags": []
          },
          "execution_count": 14
        }
      ]
    },
    {
      "metadata": {
        "id": "MkVyQdUXUYkY",
        "colab_type": "code",
        "outputId": "835f4214-e04c-434b-92bd-c1c748aa24ef",
        "colab": {
          "base_uri": "https://localhost:8080/",
          "height": 51
        }
      },
      "cell_type": "code",
      "source": [
        "score = model.evaluate(x_test, y_test, verbose=0) \n",
        "print('Test score:', score[0]) \n",
        "print('Test accuracy:', score[1])"
      ],
      "execution_count": 15,
      "outputs": [
        {
          "output_type": "stream",
          "text": [
            "Test score: 0.09854140828773379\n",
            "Test accuracy: 0.9701\n"
          ],
          "name": "stdout"
        }
      ]
    },
    {
      "metadata": {
        "id": "PfM-Tv_RUGMs",
        "colab_type": "code",
        "colab": {}
      },
      "cell_type": "code",
      "source": [
        ""
      ],
      "execution_count": 0,
      "outputs": []
    }
  ]
}